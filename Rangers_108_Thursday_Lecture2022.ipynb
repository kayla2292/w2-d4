{
 "cells": [
  {
   "cell_type": "markdown",
   "metadata": {},
   "source": [
    "# User-Defined Functions & Scoping"
   ]
  },
  {
   "cell_type": "markdown",
   "metadata": {},
   "source": [
    "## Tasks Today:\n",
    "\n",
    "\n",
    "1) Functions <br>\n",
    " &nbsp;&nbsp;&nbsp;&nbsp; a) User-Defined vs. Built-In Functions <br>\n",
    " &nbsp;&nbsp;&nbsp;&nbsp; b) Accepting Parameters <br>\n",
    " &nbsp;&nbsp;&nbsp;&nbsp; c) Default Parameters <br>\n",
    " &nbsp;&nbsp;&nbsp;&nbsp; d) Making an Argument Optional <br>\n",
    " &nbsp;&nbsp;&nbsp;&nbsp; e) Keyword Arguments <br>\n",
    " &nbsp;&nbsp;&nbsp;&nbsp; f) Returning Values <br>\n",
    " &nbsp;&nbsp;&nbsp;&nbsp; g) *args <br>\n",
    " &nbsp;&nbsp;&nbsp;&nbsp; h) Docstring <br>\n",
    " &nbsp;&nbsp;&nbsp;&nbsp; i) Using a User Function in a Loop <br>\n",
    "3) Creating more User-Defined functions <br>\n",
    "2) Scope <br>\n"
   ]
  },
  {
   "cell_type": "markdown",
   "metadata": {},
   "source": [
    "\n",
    "## Functions"
   ]
  },
  {
   "cell_type": "markdown",
   "metadata": {},
   "source": [
    "##### User-Defined vs. Built-In Functions"
   ]
  },
  {
   "cell_type": "code",
   "execution_count": 4,
   "metadata": {},
   "outputs": [
    {
     "name": "stdout",
     "output_type": "stream",
     "text": [
      "hello\n",
      "<function say_Hello at 0x000001E38AAB03A0>\n",
      "Hello World\n"
     ]
    }
   ],
   "source": [
    "# Built-In Function\n",
    "print(\"hello\")\n",
    "\n",
    "# User-Defined Function\n",
    "def say_Hello():\n",
    "    return \"Hello World\"\n",
    "print(say_Hello())\n",
    "\n",
    "def say_Hello2():\n",
    "    return \"Hello again\"\n",
    "say_Hello2()\n",
    "    \n",
    "\n",
    "# Show the function call in memory\n",
    "print(say_Hello)\n",
    "\n",
    "print(say_Hello())"
   ]
  },
  {
   "cell_type": "markdown",
   "metadata": {},
   "source": [
    "##### Accepting Parameters"
   ]
  },
  {
   "cell_type": "code",
   "execution_count": 5,
   "metadata": {
    "scrolled": true
   },
   "outputs": [
    {
     "name": "stdout",
     "output_type": "stream",
     "text": [
      "Hello my last name is McKinney and my first name is Terrell\n",
      "Hello my last name is McKinney and my first name is Terrell\n",
      "Hello my last name is McKinney and my first name is Terrell\n"
     ]
    },
    {
     "data": {
      "text/plain": [
       "4"
      ]
     },
     "execution_count": 5,
     "metadata": {},
     "output_type": "execute_result"
    }
   ],
   "source": [
    "# Order Matters\n",
    "#parameters are positional\n",
    "# a variable can be any type of object\n",
    "first = \"Terrell\"\n",
    "last = \"McKinney\"\n",
    "\n",
    "def print_full_name(first_name,last_name):\n",
    "    return f\"Hello my last name is {last} and my first name is {first}\"\n",
    "\n",
    "print(print_full_name(\"Terrell\",\"McKinney\"))\n",
    "print(print_full_name(\"McKinney\",\"Terrell\"))\n",
    "\n",
    "print(print_full_name(\"Ryan\",\"Rhoades\"))\n",
    "\n",
    "#\n",
    "\n",
    "def print_something(something):\n",
    "    return(something)\n",
    "print_something(4)\n",
    "\n",
    "\n",
    "    "
   ]
  },
  {
   "cell_type": "code",
   "execution_count": 6,
   "metadata": {},
   "outputs": [
    {
     "data": {
      "text/plain": [
       "'Hello my last name is McKinney and my first name is Terrell'"
      ]
     },
     "execution_count": 6,
     "metadata": {},
     "output_type": "execute_result"
    }
   ],
   "source": [
    "print_full_name('L', 'A')"
   ]
  },
  {
   "cell_type": "code",
   "execution_count": 10,
   "metadata": {},
   "outputs": [
    {
     "data": {
      "text/plain": [
       "9"
      ]
     },
     "execution_count": 10,
     "metadata": {},
     "output_type": "execute_result"
    }
   ],
   "source": [
    "x=2\n",
    "y=3\n",
    "\n",
    "def add_nums(num1, num2):\n",
    "    return num1 + num2\n",
    "    \n",
    "add_nums(4, 5)"
   ]
  },
  {
   "cell_type": "code",
   "execution_count": 15,
   "metadata": {},
   "outputs": [
    {
     "data": {
      "text/plain": [
       "135"
      ]
     },
     "execution_count": 15,
     "metadata": {},
     "output_type": "execute_result"
    }
   ],
   "source": [
    "def add_nums(num1, num2):\n",
    "    return num1 + num2\n",
    "    \n",
    "add_nums(4, 5)\n",
    "\n",
    "\n",
    "def add_nums2(num1, num2):\n",
    "    return num1 + num2\n",
    "\n",
    "add_nums2(10, 5)\n",
    "\n",
    "def multiply_nums(num1, num2):\n",
    "    return num1 * num2\n",
    "\n",
    "sum_nums = add_num(10, 15)\n",
    "sum_nums = add_nums2(6, 7)\n",
    "print(sum_nums)\n",
    "print(sum_nums2)\n",
    "\n",
    "multiply_nums(sum_nums, sum_nums2)\n",
    "\n",
    "multiply_nums(add_nums(4,5), add_nums2(10,5))\n"
   ]
  },
  {
   "cell_type": "markdown",
   "metadata": {},
   "source": [
    "##### Default Parameters"
   ]
  },
  {
   "cell_type": "code",
   "execution_count": 19,
   "metadata": {},
   "outputs": [
    {
     "name": "stdout",
     "output_type": "stream",
     "text": [
      "The name is Bond... James Bond.\n",
      "The name is Brown... James Brown.\n",
      "The name is Jimmy... first_name Jimmy.\n"
     ]
    }
   ],
   "source": [
    "# Default Parameters must come after non-default parameters at all times\n",
    "\n",
    "def agent_name(first_name, last_name = \"Bond\"):\n",
    "    return f\"The name is {last_name}... {first_name} {last_name}.\"\n",
    "\n",
    "print(agent_name(\"James\"))\n",
    "print(agent_name(\"James\", last_name = \"Brown\"))\n",
    "\n",
    "# #Dont do this 👇🏾\n",
    "# def print_agent_again(last_name = \"Bond\", first_name):\n",
    "#     return f\"The name is {last_name}... {first_name} {last_name}.\"\n",
    "\n",
    "print(print_agent_again(\"Jimmy\"))\n",
    "\n",
    "#are posistional.....look back\n",
    "\n"
   ]
  },
  {
   "cell_type": "code",
   "execution_count": 19,
   "metadata": {},
   "outputs": [
    {
     "name": "stdout",
     "output_type": "stream",
     "text": [
      "Your birthday is the 12 day of december and you were born in 2022.\n",
      "Your birthday is January 4 and you were born in 1998\n",
      "Your birthday is Feb 22 and you were born in 1992\n"
     ]
    }
   ],
   "source": [
    "def jan_birthday(day,year,month = 'January'):\n",
    "    return f\"Your birthday is the {day} day of {month} and you were born in {year}.\"\n",
    "print(jan_birthday(12,2022,\"december\"))\n",
    "\n",
    "\n",
    "#\n",
    "def birthday_month(day, year, month='January'):\n",
    "    return f'Your birthday is {month} {day} and you were born in {year}'\n",
    "\n",
    "print(birthday_month(4, 1998))\n",
    "\n",
    "print(birthday_month( 22, 1992, month=\"Feb\"))"
   ]
  },
  {
   "cell_type": "markdown",
   "metadata": {},
   "source": [
    "##### Making an Argument Optional"
   ]
  },
  {
   "cell_type": "code",
   "execution_count": 21,
   "metadata": {},
   "outputs": [
    {
     "name": "stdout",
     "output_type": "stream",
     "text": [
      "Hello Mr.  Ed. \n",
      "Hello Mrs. Runner Ed. \n"
     ]
    }
   ],
   "source": [
    "def print_horse_name(first, middle=\"\", last = 'Ed'):\n",
    "    return f\"Hello {first} {middle} {last}. \"\n",
    "\n",
    "print(print_horse_name(\"Mr.\"))\n",
    "print(print_horse_name(\"Mrs.\",\"Runner\"))\n",
    "\n",
    "#must define position if want to change from default\n",
    "\n",
    "#middle='' is optional arguement because it is blank"
   ]
  },
  {
   "cell_type": "markdown",
   "metadata": {},
   "source": [
    "##### Keyword Arguments"
   ]
  },
  {
   "cell_type": "code",
   "execution_count": 32,
   "metadata": {},
   "outputs": [
    {
     "name": "stdout",
     "output_type": "stream",
     "text": [
      "Bruce's power is Money.\n"
     ]
    }
   ],
   "source": [
    "def print_hero(name, power=\"flying\"):\n",
    "    return f\"{name}'s power is {power}.\"\n",
    "\n",
    "print(print_hero(power = 'Money', name = \"Bruce\"))\n",
    "\n",
    "#assign using keywords despite posistional\n",
    "\n"
   ]
  },
  {
   "cell_type": "code",
   "execution_count": 26,
   "metadata": {},
   "outputs": [
    {
     "data": {
      "text/plain": [
       "'Here are some neat colors green, blue, purple'"
      ]
     },
     "execution_count": 26,
     "metadata": {},
     "output_type": "execute_result"
    }
   ],
   "source": [
    "# Create a function (or more than one) that accepts positional, default, and optional arguments.\n",
    "#can define variables before funct\n",
    "\n",
    "def print_colors(color1, color2, color3):\n",
    "    return f\"Here are some neat colors {color1}, {color2}, {color3}\"\n",
    "\n",
    "print_colors(color3='purple', color2='blue', color1='green')\n",
    "\n"
   ]
  },
  {
   "cell_type": "markdown",
   "metadata": {},
   "source": [
    "# Creating a start, stop, step function"
   ]
  },
  {
   "cell_type": "code",
   "execution_count": 29,
   "metadata": {},
   "outputs": [
    {
     "name": "stdout",
     "output_type": "stream",
     "text": [
      "1\n",
      "3\n",
      "5\n",
      "7\n",
      "9\n",
      "11\n",
      "13\n"
     ]
    },
    {
     "data": {
      "text/plain": [
       "'hey'"
      ]
     },
     "execution_count": 29,
     "metadata": {},
     "output_type": "execute_result"
    }
   ],
   "source": [
    "def my_range(stop, start = 0, step = 1):\n",
    "    for i in range(start,stop,step):\n",
    "        print(i)\n",
    "    return \"hey\"\n",
    "my_range(15,1,2)\n",
    "\n",
    "#return will stop functio here\n",
    "\n",
    "#print(my_range(1000, 50, 7))"
   ]
  },
  {
   "cell_type": "markdown",
   "metadata": {},
   "source": [
    "##### Returning Values"
   ]
  },
  {
   "cell_type": "code",
   "execution_count": 35,
   "metadata": {},
   "outputs": [
    {
     "data": {
      "text/plain": [
       "100"
      ]
     },
     "execution_count": 35,
     "metadata": {},
     "output_type": "execute_result"
    }
   ],
   "source": [
    "def add_nums(num1, num2):\n",
    "    return num1 + num2\n",
    "add_nums(56,44)"
   ]
  },
  {
   "cell_type": "code",
   "execution_count": 33,
   "metadata": {},
   "outputs": [
    {
     "data": {
      "text/plain": [
       "'Bulba Bulba'"
      ]
     },
     "execution_count": 33,
     "metadata": {},
     "output_type": "execute_result"
    }
   ],
   "source": [
    "poke_list= ['charmander', \"squirtle\", \"bulbasaur\", \"cyndaquil\", \"chikorita\", \"totodile\"]\n",
    "def find_a_bulbasaur(arr):\n",
    "    for poke in arr:\n",
    "        if poke == \"bulbasaur\":\n",
    "            return \"Bulba Bulba\"\n",
    "        \n",
    "    return \"no bulbasaur\"\n",
    "\n",
    "find_a_bulbasaur(poke_list)\n",
    "    "
   ]
  },
  {
   "cell_type": "code",
   "execution_count": null,
   "metadata": {},
   "outputs": [],
   "source": []
  },
  {
   "cell_type": "markdown",
   "metadata": {},
   "source": [
    "##### *args / **kwargs (keyword arguments)"
   ]
  },
  {
   "cell_type": "code",
   "execution_count": 35,
   "metadata": {},
   "outputs": [
    {
     "name": "stdout",
     "output_type": "stream",
     "text": [
      "2\n",
      "(10, 'megazord')\n",
      "{'names': ['terrell', 'ryan'], 'subject': 'Python'}\n",
      "2\n",
      "('Maga Man', 'Cheetor', \"what else is on Ryans's desk\", ['stuff', 'morestuff'])\n",
      "{'names': ['Jeong', 'Mike', 'Tenzin'], 'language': 'python'}\n"
     ]
    }
   ],
   "source": [
    "# *args stands for arguments (**kwargs are keyword arguments) & takes any number of arguments as parameters\n",
    "# must be last if other parameters are present\n",
    "# if other parameters are present, *args must go last\n",
    "#can be named anything\n",
    "\n",
    "def print_args(num1, *args, **kwargs):\n",
    "    print(num1)\n",
    "    print(args)\n",
    "    print(kwargs)\n",
    "\n",
    "print_args(2,10,\"megazord\",names=[\"terrell\",\"ryan\"], subject = 'Python')\n",
    "           \n",
    "print_args(2, \"Maga Man\", \"Cheetor\", \"what else is on Ryans's desk\", \n",
    "           [\"stuff\", \"morestuff\"], names=[\"Jeong\", \"Mike\", \"Tenzin\"], language= \"python\")\n",
    "    "
   ]
  },
  {
   "cell_type": "code",
   "execution_count": null,
   "metadata": {},
   "outputs": [],
   "source": []
  },
  {
   "cell_type": "code",
   "execution_count": 36,
   "metadata": {},
   "outputs": [
    {
     "name": "stdout",
     "output_type": "stream",
     "text": [
      "10\n",
      "megazord\n",
      "names ['terrell', 'ryan']\n",
      "subject Python\n",
      "2\n",
      "Maga Man\n",
      "Link\n",
      "Bowser\n",
      "Donkey Kong\n",
      "annoying Ness\n",
      "delicious pie\n",
      "names ['Kayla', 'Alex']\n",
      "27\n"
     ]
    }
   ],
   "source": [
    "# Write a function that accepts args and kwargs and prints out each argument and keyword argument on its own line. \n",
    "\n",
    "def print_args(num1, *args, **kwargs):\n",
    "    for arg in args:\n",
    "        print(arg)\n",
    "\n",
    "    for key, value in kwargs.items():\n",
    "        #kwargs = {}\n",
    "        print(key,value)\n",
    "    print(num1)\n",
    "print_args(2,10,\"megazord\",names=[\"terrell\",\"ryan\"], subject = 'Python')\n",
    "\n",
    "#\n",
    "\n",
    "print_args(27, \"Maga Man\", \"Link\", \"Bowser\", \"Donkey Kong\", annoying= \"Ness\", delicious = \"pie\", names = [\"Kayla\", \"Alex\"])\n",
    "\n"
   ]
  },
  {
   "cell_type": "markdown",
   "metadata": {},
   "source": [
    "##### Docstring"
   ]
  },
  {
   "cell_type": "code",
   "execution_count": 38,
   "metadata": {},
   "outputs": [
    {
     "name": "stdout",
     "output_type": "stream",
     "text": [
      "Ryan\n",
      "Alex\n",
      "Ben\n"
     ]
    }
   ],
   "source": [
    "def print_names(list_1):\n",
    "    \"\"\"\n",
    "        print_names(list_1)\n",
    "        Function requires a list to be passed as a parameter\n",
    "        and will print the contents of the list. Expecting\n",
    "        a list of names(strings) to be passed.\n",
    "    \"\"\"\n",
    "    for name in list_1:\n",
    "        print(name)\n",
    "        \n",
    "#nice for leaving notes\n",
    "#providing instructions\n",
    "\n",
    "def print_names(arr):\n",
    "    \"\"\"\n",
    "    print_names(arr)\n",
    "    Function requires a list to be passed as a parameter\n",
    "    and will print the contents of the list. Expecting\n",
    "    a list of names strings to be passed.\n",
    "    \"\"\"\n",
    "    for name in arr:\n",
    "        print(name)\n",
    "print_names([\"Ryan\", \"Alex\", \"Ben\"]) #this symbol ([]) makes a list"
   ]
  },
  {
   "cell_type": "code",
   "execution_count": 44,
   "metadata": {},
   "outputs": [
    {
     "name": "stdout",
     "output_type": "stream",
     "text": [
      "Sylvester\n",
      "Tweety\n"
     ]
    }
   ],
   "source": [
    "print_names([\"Sylvester\",\"Tweety\"])"
   ]
  },
  {
   "cell_type": "markdown",
   "metadata": {},
   "source": [
    "##### Using a User Function in a Loop"
   ]
  },
  {
   "cell_type": "code",
   "execution_count": 39,
   "metadata": {},
   "outputs": [
    {
     "name": "stdout",
     "output_type": "stream",
     "text": [
      "What do you want to do?sleep\n",
      "Your answer is sleep\n",
      "Ready to quit?no\n",
      "What do you want to do?sleep\n",
      "Your answer is sleep\n",
      "Ready to quit?yes\n",
      "What's going on?IDK\n",
      "Your answer is IDK\n",
      "Are you ready to quit? no\n",
      "What's going on?Who knows...\n",
      "Your answer is Who knows...\n",
      "Are you ready to quit? yes\n"
     ]
    }
   ],
   "source": [
    "def printInput(answer):\n",
    "    print(f\"Your answer is {answer}\")\n",
    "    \n",
    "while True:\n",
    "    ask = input(\"What do you want to do?\")\n",
    "    \n",
    "    printInput(ask)\n",
    "    \n",
    "    response = input(\"Ready to quit?\")\n",
    "    if response.lower() == \"yes\":\n",
    "        break\n",
    "        \n",
    "#\n",
    "\n",
    "def printInput(answer):\n",
    "    print(f\"Your answer is {answer}\")\n",
    "    \n",
    "while True:\n",
    "    ask = input(\"What's going on?\")\n",
    "    \n",
    "    printInput(ask)\n",
    "    \n",
    "    response = input(\"Are you ready to quit? \")\n",
    "    if response.lower() == \"yes\":\n",
    "        break\n",
    "\n",
    "#will continue until you exit\n"
   ]
  },
  {
   "cell_type": "markdown",
   "metadata": {},
   "source": [
    "## Function Exercises <br>\n",
    "### Exercise 1\n",
    "<p>Write a function that loops through a list of first_names and a list of last_names, combines the two and return a list of full_names</p>"
   ]
  },
  {
   "cell_type": "code",
   "execution_count": 47,
   "metadata": {},
   "outputs": [
    {
     "data": {
      "text/plain": [
       "['John Smith', 'Evan Smith', 'Jordan Williams', 'Max Bell']"
      ]
     },
     "execution_count": 47,
     "metadata": {},
     "output_type": "execute_result"
    }
   ],
   "source": [
    "first_name = ['John', 'Evan', 'Jordan', 'Max']\n",
    "last_name = ['Smith', 'Smith', 'Williams', 'Bell']\n",
    "\n",
    "# Output: ['John Smith', 'Evan Smith', 'Jordan Williams', 'Max Bell']\n",
    "\n",
    "def get_full_name(first, last):\n",
    "    \"\"\"Combine first and last to make full name\"\"\"\n",
    "    full_name = f\"{first} {last}\"\n",
    "    return full_name.title()\n",
    "\n",
    "def full_names(firsts,lasts): #this one takes in list\n",
    "    fulls = []\n",
    "    \n",
    "    for i in range(len(firsts)):\n",
    "        whole_name = get_full_name(firsts[i],lasts[i])\n",
    "        fulls.append(whole_name)\n",
    "    return fulls\n",
    "\n",
    "full_names(first_name,last_name)"
   ]
  },
  {
   "cell_type": "code",
   "execution_count": 48,
   "metadata": {},
   "outputs": [
    {
     "data": {
      "text/plain": [
       "['John Smith', 'Evan Smith', 'Jordan Williams', 'Max Bell']"
      ]
     },
     "execution_count": 48,
     "metadata": {},
     "output_type": "execute_result"
    }
   ],
   "source": [
    "# Another way to answer the problem\n",
    "def full_name_getter(firsts,lasts):\n",
    "    full_names = []\n",
    "    for i in range(len(firsts)):\n",
    "        full_names.append(firsts[i] + \" \" + lasts[i])\n",
    "    return full_names\n",
    "\n",
    "full_name_getter(first_name,last_name)"
   ]
  },
  {
   "cell_type": "code",
   "execution_count": 49,
   "metadata": {},
   "outputs": [
    {
     "data": {
      "text/plain": [
       "['John Smith', 'Evan Smith', 'Jordan Williams', 'Max Bell']"
      ]
     },
     "execution_count": 49,
     "metadata": {},
     "output_type": "execute_result"
    }
   ],
   "source": [
    "def full_getter(firsts,lasts):\n",
    "    return [firsts[i]+\" \"+lasts[i] for i in range(len(firsts))]\n",
    "full_getter(first_name,last_name)"
   ]
  },
  {
   "cell_type": "code",
   "execution_count": 41,
   "metadata": {},
   "outputs": [
    {
     "name": "stdout",
     "output_type": "stream",
     "text": [
      "['John Smith', 'Evan Smith', 'Jordan Williams', 'Max Bell']\n"
     ]
    }
   ],
   "source": [
    "first_name = ['John', 'Evan', 'Jordan', 'Max']\n",
    "last_name = ['Smith', 'Smith', 'Williams', 'Bell']\n",
    "\n",
    "def full_name(first, last):\n",
    "    full_name_list= []\n",
    "    for x in range(len(first)):\n",
    "        full_name_list.append(first[x] + \" \" + last[x])\n",
    "    return full_name_list\n",
    "                   \n",
    "print(full_name(first_name, last_name))\n",
    "        \n",
    "        \n",
    "        "
   ]
  },
  {
   "cell_type": "markdown",
   "metadata": {},
   "source": [
    "### Exercise 2\n",
    "Create a function that alters all values in the given list by subtracting 5 and then doubling them."
   ]
  },
  {
   "cell_type": "code",
   "execution_count": 50,
   "metadata": {},
   "outputs": [
    {
     "name": "stdout",
     "output_type": "stream",
     "text": [
      "[0, 10, 20, 30, -4]\n"
     ]
    }
   ],
   "source": [
    "input_list = [5,10,15,20,3]\n",
    "# output = [0,10,20,30,-4]\n",
    "\n",
    "def lst(num):\n",
    "    funk = [2 * (i - 5) for i in num]\n",
    "#     for i in num:\n",
    "#          funk.append(2 * (i - 5))\n",
    "    return funk\n",
    "\n",
    "\n",
    "print(lst(input_list))"
   ]
  },
  {
   "cell_type": "markdown",
   "metadata": {},
   "source": [
    "### Exercise 2 BONUS \n",
    "Create a function that takes both a given list and another func as a parameter. The function should return a list of items each altered by the func. As an example, your function can subtract 5 and double each number."
   ]
  },
  {
   "cell_type": "code",
   "execution_count": 56,
   "metadata": {},
   "outputs": [
    {
     "data": {
      "text/plain": [
       "[0, 10, 20, 30, -4]"
      ]
     },
     "execution_count": 56,
     "metadata": {},
     "output_type": "execute_result"
    }
   ],
   "source": [
    "input_list = [5,10,15,20,3]\n",
    "# output = [0,10,20,30,-4]\n",
    "\n",
    "def sub_dub(num):\n",
    "    \"\"\"\n",
    "        subtracts 5 from a number and doubles it.\n",
    "    \"\"\"\n",
    "    return 2 * (num - 5)\n",
    "\n",
    "def list_changer(func,alist):\n",
    "    new_list = []\n",
    "    \n",
    "    for value in alist:\n",
    "        new_value = func(value)\n",
    "        new_list.append(new_value)\n",
    "    return new_list\n",
    "    \n",
    "list_changer(sub_dub,input_list)\n"
   ]
  },
  {
   "cell_type": "markdown",
   "metadata": {},
   "source": [
    "### Exercise 3\n",
    "Create a function that takes in a list of strings and filters out the strings that have less than 6 characters. "
   ]
  },
  {
   "cell_type": "code",
   "execution_count": 58,
   "metadata": {},
   "outputs": [
    {
     "data": {
      "text/plain": [
       "['Sheldon', 'Leonard', 'Howard', 'Stuart']"
      ]
     },
     "execution_count": 58,
     "metadata": {},
     "output_type": "execute_result"
    }
   ],
   "source": [
    "string_list = ['Sheldon','Penny','Leonard','Howard','Raj','Amy','Stuart']\n",
    "# output = ['Sheldon', 'Leonard','Howard','Stuart']\n",
    "\n",
    "def six_char(names):\n",
    "    new_names_list = [name for name in names if len(name)>5]\n",
    "#     for name in names:\n",
    "#         if len(name) > 5:\n",
    "#             new_names_list.append(name)\n",
    "    return new_names_list\n",
    "\n",
    "six_char(string_list)\n"
   ]
  },
  {
   "cell_type": "code",
   "execution_count": 49,
   "metadata": {},
   "outputs": [
    {
     "ename": "NameError",
     "evalue": "name 'new_string' is not defined",
     "output_type": "error",
     "traceback": [
      "\u001b[1;31m---------------------------------------------------------------------------\u001b[0m",
      "\u001b[1;31mNameError\u001b[0m                                 Traceback (most recent call last)",
      "\u001b[1;32m~\\AppData\\Local\\Temp\\ipykernel_3356\\2787432717.py\u001b[0m in \u001b[0;36m<module>\u001b[1;34m\u001b[0m\n\u001b[0;32m      6\u001b[0m         \u001b[1;32mreturn\u001b[0m \u001b[0mnew_string\u001b[0m\u001b[1;33m\u001b[0m\u001b[1;33m\u001b[0m\u001b[0m\n\u001b[0;32m      7\u001b[0m \u001b[1;33m\u001b[0m\u001b[0m\n\u001b[1;32m----> 8\u001b[1;33m \u001b[0mprint\u001b[0m\u001b[1;33m(\u001b[0m\u001b[0mnew_string\u001b[0m\u001b[1;33m)\u001b[0m\u001b[1;33m\u001b[0m\u001b[1;33m\u001b[0m\u001b[0m\n\u001b[0m",
      "\u001b[1;31mNameError\u001b[0m: name 'new_string' is not defined"
     ]
    }
   ],
   "source": [
    "def bigbang(names):\n",
    "    new_string = []\n",
    "    for name in names:\n",
    "        if len(name) > 5:\n",
    "            new_string.append(name)\n",
    "        return new_string\n",
    "            \n",
    "print(new_string)"
   ]
  },
  {
   "cell_type": "markdown",
   "metadata": {},
   "source": [
    "### Exercise 4\n",
    "Create a function that accepts a list as a parameter and returns a dictionary containing the list items as it's keys, and the number of times they appear in the list as the values"
   ]
  },
  {
   "cell_type": "code",
   "execution_count": 59,
   "metadata": {},
   "outputs": [
    {
     "data": {
      "text/plain": [
       "{'Harry': 3, 'Hermione': 2, 'Ron': 4, 'Dobby': 1, 'Draco': 1, 'Luna': 1}"
      ]
     },
     "execution_count": 59,
     "metadata": {},
     "output_type": "execute_result"
    }
   ],
   "source": [
    "example_list = [\"Harry\", 'Hermione','Harry','Ron','Dobby','Draco','Luna','Harry','Hermione','Ron','Ron','Ron']\n",
    "\n",
    "# output = {\n",
    "#     \"Harry\":3,\n",
    "#     \"Hermione\":2,\n",
    "#     \"Ron\":4,\n",
    "#     \"Dobby\":1,\n",
    "#     \"Draco\":1,\n",
    "#     \"Luna\": 1\n",
    "# }\n",
    "\n",
    "def list_counter(alist):\n",
    "    counter_dict = {}\n",
    "    \n",
    "    for value in alist:\n",
    "        if value in counter_dict:\n",
    "            counter_dict[value] += 1\n",
    "        else:\n",
    "            counter_dict[value] = 1\n",
    "    \n",
    "    return counter_dict\n",
    "\n",
    "list_counter(example_list)\n",
    "\n",
    "def harryPottah(lst):\n",
    "    newDict = {}\n",
    "    \n",
    "    for i in lst:\n",
    "        if i in newDict:\n",
    "            newDict[i] += 1\n",
    "        else:\n",
    "            newDict[i] = 1\n",
    "    \n",
    "    print(newDict)\n",
    "\n",
    "harryPottah(example_list)\n",
    "\n",
    "def votes(list1):\n",
    "    d={}\n",
    "    for name in list1:\n",
    "        if name not in d:\n",
    "            d[name] = 1\n",
    "        else:\n",
    "            d[name]+= 1\n",
    "            \n",
    "    return d\n",
    "\n",
    "print(votes(example_list))\n",
    "\n",
    "def count_items(example_list):\n",
    "    item_counts = {}\n",
    "    for item in example_list:\n",
    "    if item in item_counts:\n",
    "        item_counts[item] += 1\n",
    "    else:\n",
    "        item_counts[item] = 1\n",
    "    return item_counts\n",
    "\n",
    "\n",
    "def dict_list(example):\n",
    "    final_dict = {}\n",
    "    for name in example:\n",
    "        final_dict[name] = example.count(name)\n",
    "    return final_dict\n",
    "\n",
    "print(dict_list(example_list))\n",
    "\n",
    "#regex solution(linear)\n",
    "import re\n",
    "string_list = ['Sheldon','Pnny','Leonard','Hwrd','Rj','Amy','Strt']\n",
    "\n",
    "pattern = re.compile('a|e|i|o|u')\n",
    "name_list = []\n",
    "for name in string_list:\n",
    "    match = pattern.findall(name.lower())\n",
    "    \n",
    "    if match:\n",
    "        name_list.append(name)\n",
    "        \n",
    "print(name_list)\n",
    "\n"
   ]
  },
  {
   "cell_type": "code",
   "execution_count": null,
   "metadata": {},
   "outputs": [],
   "source": [
    "#Create a function that accepts a list as a parameter and returns a dictionary containing the \n",
    "#list items as it's keys, and the number of times they appear in the list as the values\n",
    "\n",
    "example_list = [\"Harry\", 'Hermione','Harry','Ron','Dobby','Draco','Luna','Harry','Hermione','Ron','Ron','Ron']\n",
    "\n",
    "def harrypotter(example_list):\n",
    "    if name in names \n",
    "    \n",
    "    \n",
    "    "
   ]
  },
  {
   "cell_type": "markdown",
   "metadata": {},
   "source": [
    "\n",
    "\n",
    "## Scope <br>\n",
    "<p>Scope refers to the ability to access variables, different types of scope include:<br>a) Global<br>b) Function (local)<br>c) Class (local)</p>"
   ]
  },
  {
   "cell_type": "code",
   "execution_count": 62,
   "metadata": {},
   "outputs": [
    {
     "name": "stdout",
     "output_type": "stream",
     "text": [
      "6\n"
     ]
    }
   ],
   "source": [
    "# placement of variable declaration matters\n",
    "\n",
    "number = 3 # Global Variable\n",
    "\n",
    "def myFunc():\n",
    "    num_3 = 6 # Local Function Variable\n",
    "    return num_3\n",
    "\n",
    "# print(num_3)\n",
    "# print(number)\n",
    "return_num = myFunc()\n",
    "print(return_num)"
   ]
  },
  {
   "cell_type": "code",
   "execution_count": 50,
   "metadata": {},
   "outputs": [
    {
     "ename": "NameError",
     "evalue": "name 'number_2' is not defined",
     "output_type": "error",
     "traceback": [
      "\u001b[1;31m---------------------------------------------------------------------------\u001b[0m",
      "\u001b[1;31mNameError\u001b[0m                                 Traceback (most recent call last)",
      "\u001b[1;32m~\\AppData\\Local\\Temp\\ipykernel_3356\\3274281028.py\u001b[0m in \u001b[0;36m<module>\u001b[1;34m\u001b[0m\n\u001b[0;32m      6\u001b[0m \u001b[1;33m\u001b[0m\u001b[0m\n\u001b[0;32m      7\u001b[0m \u001b[0madd_nums\u001b[0m\u001b[1;33m(\u001b[0m\u001b[1;36m15\u001b[0m\u001b[1;33m)\u001b[0m\u001b[1;33m\u001b[0m\u001b[1;33m\u001b[0m\u001b[0m\n\u001b[1;32m----> 8\u001b[1;33m \u001b[0mprint\u001b[0m\u001b[1;33m(\u001b[0m\u001b[0mnumber_2\u001b[0m\u001b[1;33m)\u001b[0m\u001b[1;33m\u001b[0m\u001b[1;33m\u001b[0m\u001b[0m\n\u001b[0m",
      "\u001b[1;31mNameError\u001b[0m: name 'number_2' is not defined"
     ]
    }
   ],
   "source": [
    "num = 10 #global number\n",
    "\n",
    "def add_nums(number):\n",
    "    number_2 =12\n",
    "    return number+num\n",
    "\n",
    "add_nums(15)\n",
    "print(number_2)\n"
   ]
  },
  {
   "cell_type": "code",
   "execution_count": null,
   "metadata": {},
   "outputs": [],
   "source": [
    "class Dog():\n",
    "    my_dog = \"eyo\"\n",
    "    def my_fuc():\n",
    "        pass\n",
    "    def my_func2():\n",
    "        pass\n",
    "print(my_dog)"
   ]
  },
  {
   "cell_type": "markdown",
   "metadata": {},
   "source": [
    "# Homework Exercises"
   ]
  },
  {
   "cell_type": "markdown",
   "metadata": {},
   "source": [
    "## Exercise 1 <br>\n",
    "<p>Create a function that returns the sum of the two lowest positive numbers given an array of minimum 4 positive integers. No floats or non-positive integers will be passed.\n",
    "<p>"
   ]
  },
  {
   "cell_type": "code",
   "execution_count": null,
   "metadata": {},
   "outputs": [],
   "source": [
    "example = [19, 5, 42, 2, 77]\n",
    "#output = 7\n",
    "\n",
    "\n"
   ]
  },
  {
   "cell_type": "markdown",
   "metadata": {},
   "source": [
    "## Exercise 2 <br>\n",
    "<p>Given an array of integers.<br>\n",
    "\n",
    "Return an array, where the first element is the count of positives numbers and the second element is sum of negative numbers. 0 is neither positive nor negative.<br>\n",
    "\n",
    "If the input array is empty or null, return an empty array.<br>\n",
    "</p>"
   ]
  },
  {
   "cell_type": "code",
   "execution_count": null,
   "metadata": {},
   "outputs": [],
   "source": [
    "example_input = [1, 2, 3, 4, 5, 6, 7, 8, 9, 10, -11, -12, -13, -14, -15]\n",
    "# output  = [10,-65] \n",
    "\n"
   ]
  }
 ],
 "metadata": {
  "kernelspec": {
   "display_name": "Python 3 (ipykernel)",
   "language": "python",
   "name": "python3"
  },
  "language_info": {
   "codemirror_mode": {
    "name": "ipython",
    "version": 3
   },
   "file_extension": ".py",
   "mimetype": "text/x-python",
   "name": "python",
   "nbconvert_exporter": "python",
   "pygments_lexer": "ipython3",
   "version": "3.9.13"
  }
 },
 "nbformat": 4,
 "nbformat_minor": 2
}
